{
 "cells": [
  {
   "cell_type": "markdown",
   "id": "fce93985-1f09-480b-a589-ef16a7dec10e",
   "metadata": {},
   "source": [
    "# Time Series Data Prep\n",
    "\n",
    "Time series data contains an ordered sequence of data. Python, specificaly pandas, offeres methods to manupulate the sequence in mutlipe ways that can work to better reveal time-based patterns to various models."
   ]
  },
  {
   "cell_type": "code",
   "execution_count": null,
   "id": "5bd54bef-0df6-43b3-87c6-26e092831802",
   "metadata": {},
   "outputs": [],
   "source": [
    "import pandas as pd\n",
    "import numpy as np\n",
    "from numpy.random import randn"
   ]
  },
  {
   "cell_type": "markdown",
   "id": "0ef9c242-427c-47b6-a80f-bb6ba38b823d",
   "metadata": {},
   "source": [
    "## Some Basics"
   ]
  },
  {
   "cell_type": "code",
   "execution_count": null,
   "id": "2ffadea5-15fd-4e80-88f3-996b5b9ca59d",
   "metadata": {},
   "outputs": [],
   "source": [
    "\n",
    "df = pd.DataFrame(randn(5,4),index='R1 R2 R3 R4 R5'.split(),columns='C1 C2 C3 C3'.split())\n",
    "df"
   ]
  },
  {
   "cell_type": "code",
   "execution_count": null,
   "id": "f0588e3f-9d45-4156-9805-b2eead9dd6c3",
   "metadata": {},
   "outputs": [],
   "source": [
    "df[df['C1']>0]['C3']"
   ]
  },
  {
   "cell_type": "code",
   "execution_count": null,
   "id": "13487892-0b9f-4bff-bd0f-bf04ef9bca41",
   "metadata": {},
   "outputs": [],
   "source": [
    "df.reset_index()"
   ]
  },
  {
   "cell_type": "code",
   "execution_count": null,
   "id": "9d3c7f22-36a1-465d-9f55-9f7be8a4575a",
   "metadata": {},
   "outputs": [],
   "source": [
    "df['Category'] = 'food travel game book flower'.split()"
   ]
  },
  {
   "cell_type": "code",
   "execution_count": null,
   "id": "03ec3400-c25b-4b37-9b0f-c268be656fb7",
   "metadata": {},
   "outputs": [],
   "source": [
    "df"
   ]
  },
  {
   "cell_type": "code",
   "execution_count": null,
   "id": "4ff5e3ac-f05c-441d-be97-43e677da5c1b",
   "metadata": {},
   "outputs": [],
   "source": [
    "df.set_index('Category')"
   ]
  },
  {
   "cell_type": "code",
   "execution_count": null,
   "id": "ce6841b8-b5cb-4b5c-a2c1-c3d45644c153",
   "metadata": {},
   "outputs": [],
   "source": [
    "df.describe()"
   ]
  },
  {
   "cell_type": "code",
   "execution_count": null,
   "id": "406a6a29-5933-48fa-bfd5-088cd291c2af",
   "metadata": {},
   "outputs": [],
   "source": [
    "df.dtypes"
   ]
  },
  {
   "cell_type": "code",
   "execution_count": null,
   "id": "fe4b41fb-ab07-4c99-b09f-612e1cfc2889",
   "metadata": {},
   "outputs": [],
   "source": [
    "df.info()"
   ]
  },
  {
   "cell_type": "markdown",
   "id": "dfa49357-3cb5-449c-a70a-bab4c3b9d189",
   "metadata": {},
   "source": [
    "### Repair - missing values"
   ]
  },
  {
   "cell_type": "code",
   "execution_count": null,
   "id": "ea938f6d-efbf-41d1-9e95-c67e41139bc7",
   "metadata": {},
   "outputs": [],
   "source": [
    "df = pd.DataFrame({'C1':[1,-2,np.nan],\n",
    "                  'C2':[5,np.nan,np.nan],\n",
    "                  'C3':[1,2,9]})\n",
    "df"
   ]
  },
  {
   "cell_type": "code",
   "execution_count": null,
   "id": "f157f491-d13a-4ad3-879a-003107e4f7de",
   "metadata": {},
   "outputs": [],
   "source": [
    "df.dropna(axis=1) # removes columns, axis =0 (default) removes rows"
   ]
  },
  {
   "cell_type": "code",
   "execution_count": null,
   "id": "a5c48c1d-0dfa-4d86-90ef-e1c15d69607e",
   "metadata": {},
   "outputs": [],
   "source": [
    "df = pd.DataFrame({'C1':[1,-2,np.nan],\n",
    "                  'C2':[5,np.nan,np.nan],\n",
    "                  'C3':[1,2,9]})\n",
    "df['C1'] = df['C1'].fillna(value=df['C1'].mean())\n",
    "df"
   ]
  },
  {
   "cell_type": "markdown",
   "id": "7f6b5b19-8581-414d-b303-de39471af04d",
   "metadata": {},
   "source": [
    "### Identifing Unique Entries within a row"
   ]
  },
  {
   "cell_type": "code",
   "execution_count": null,
   "id": "12ce8cbf-1402-48ea-a352-05e5a7950406",
   "metadata": {},
   "outputs": [],
   "source": [
    "df['C2'].nunique()"
   ]
  },
  {
   "cell_type": "markdown",
   "id": "c63b39ec-e272-465b-ac51-0a5110c2350a",
   "metadata": {},
   "source": [
    "## Resample"
   ]
  },
  {
   "cell_type": "code",
   "execution_count": null,
   "id": "b3151fa3-326d-471e-b26c-682aaeb21e34",
   "metadata": {},
   "outputs": [],
   "source": [
    "df = pd.read_csv('data/starbucks.csv', index_col='Date', parse_dates=True)\n",
    "df.head"
   ]
  },
  {
   "cell_type": "code",
   "execution_count": null,
   "id": "713bd4f1-91ff-4bce-8c5d-a6d3efc426f4",
   "metadata": {},
   "outputs": [],
   "source": [
    "df.index"
   ]
  },
  {
   "cell_type": "markdown",
   "id": "f8e066b7-affb-4700-8832-2ff25b369bae",
   "metadata": {},
   "source": [
    "<table style=\"display: inline-block\">\n",
    "    <caption style=\"text-align: center\"><strong>TIME SERIES OFFSET ALIASES</strong></caption>\n",
    "<tr><th>ALIAS</th><th>DESCRIPTION</th></tr>\n",
    "<tr><td>B</td><td>business day frequency</td></tr>\n",
    "<tr><td>C</td><td>custom business day frequency (experimental)</td></tr>\n",
    "<tr><td>D</td><td>calendar day frequency</td></tr>\n",
    "<tr><td>W</td><td>weekly frequency</td></tr>\n",
    "<tr><td>M</td><td>month end frequency</td></tr>\n",
    "<tr><td>SM</td><td>semi-month end frequency (15th and end of month)</td></tr>\n",
    "<tr><td>BM</td><td>business month end frequency</td></tr>\n",
    "<tr><td>CBM</td><td>custom business month end frequency</td></tr>\n",
    "<tr><td>MS</td><td>month start frequency</td></tr>\n",
    "<tr><td>SMS</td><td>semi-month start frequency (1st and 15th)</td></tr>\n",
    "<tr><td>BMS</td><td>business month start frequency</td></tr>\n",
    "<tr><td>CBMS</td><td>custom business month start frequency</td></tr>\n",
    "<tr><td>Q</td><td>quarter end frequency</td></tr>\n",
    "<tr><td></td><td><font color=white>intentionally left blank</font></td></tr></table>\n",
    "\n",
    "<table style=\"display: inline-block; margin-left: 40px\">\n",
    "<caption style=\"text-align: center\"></caption>\n",
    "<tr><th>ALIAS</th><th>DESCRIPTION</th></tr>\n",
    "<tr><td>BQ</td><td>business quarter endfrequency</td></tr>\n",
    "<tr><td>QS</td><td>quarter start frequency</td></tr>\n",
    "<tr><td>BQS</td><td>business quarter start frequency</td></tr>\n",
    "<tr><td>A</td><td>year end frequency</td></tr>\n",
    "<tr><td>BA</td><td>business year end frequency</td></tr>\n",
    "<tr><td>AS</td><td>year start frequency</td></tr>\n",
    "<tr><td>BAS</td><td>business year start frequency</td></tr>\n",
    "<tr><td>BH</td><td>business hour frequency</td></tr>\n",
    "<tr><td>H</td><td>hourly frequency</td></tr>\n",
    "<tr><td>T, min</td><td>minutely frequency</td></tr>\n",
    "<tr><td>S</td><td>secondly frequency</td></tr>\n",
    "<tr><td>L, ms</td><td>milliseconds</td></tr>\n",
    "<tr><td>U, us</td><td>microseconds</td></tr>\n",
    "<tr><td>N</td><td>nanoseconds</td></tr></table>"
   ]
  },
  {
   "cell_type": "code",
   "execution_count": null,
   "id": "eb9ab0b7-4033-49c2-94db-7b784139e70e",
   "metadata": {},
   "outputs": [],
   "source": [
    "# Yearly Means\n",
    "df.resample(rule='QS').mean()"
   ]
  },
  {
   "cell_type": "markdown",
   "id": "7796c83d-112e-4c8a-a04f-b4dcfdad056a",
   "metadata": {},
   "source": [
    "## Time Shifting"
   ]
  },
  {
   "cell_type": "code",
   "execution_count": null,
   "id": "7859bed8-f7e7-4e31-a4ec-eeebd8fafd1e",
   "metadata": {},
   "outputs": [],
   "source": [
    "df.shift(1).head()"
   ]
  },
  {
   "cell_type": "code",
   "execution_count": null,
   "id": "d6938ade-e2d6-41b6-9598-932ccc21e408",
   "metadata": {},
   "outputs": [],
   "source": [
    "df.shift(-1).tail()"
   ]
  },
  {
   "cell_type": "code",
   "execution_count": null,
   "id": "64651c71-3e83-46a7-b01d-cfc148636975",
   "metadata": {},
   "outputs": [],
   "source": [
    "df.shift(periods=1, freq='M').head()"
   ]
  },
  {
   "cell_type": "markdown",
   "id": "65f8ffb9-9a2d-42fc-9253-de66fe13b591",
   "metadata": {},
   "source": [
    "## Rolling/Expanding Time Slices"
   ]
  },
  {
   "cell_type": "code",
   "execution_count": null,
   "id": "e17ef945-bf05-44cf-ab4f-365bd134171d",
   "metadata": {},
   "outputs": [],
   "source": [
    "# Start fresh\n",
    "df = pd.read_csv('data/starbucks.csv', index_col='Date', parse_dates=True)\n",
    "df['Close'].plot(figsize=(12,5)).autoscale(axis='x',tight=True);"
   ]
  },
  {
   "cell_type": "code",
   "execution_count": null,
   "id": "0304a50b-3e73-4dfe-a0f0-24ef31763364",
   "metadata": {},
   "outputs": [],
   "source": [
    "# 7 day rolling mean\n",
    "df.rolling(window=7).mean().head(15)\n",
    "df['Close'].plot(figsize=(12,5)).autoscale(axis='x',tight=True)\n",
    "df.rolling(window=30).mean()['Close'].plot();"
   ]
  },
  {
   "cell_type": "code",
   "execution_count": null,
   "id": "60c874af-86c2-419c-b6b4-6e78ad1d4bcf",
   "metadata": {},
   "outputs": [],
   "source": [
    "df['Close'].expanding(min_periods=30).mean().plot(figsize=(12,5));"
   ]
  }
 ],
 "metadata": {
  "kernelspec": {
   "display_name": "Python 3 (ipykernel)",
   "language": "python",
   "name": "python3"
  },
  "language_info": {
   "codemirror_mode": {
    "name": "ipython",
    "version": 3
   },
   "file_extension": ".py",
   "mimetype": "text/x-python",
   "name": "python",
   "nbconvert_exporter": "python",
   "pygments_lexer": "ipython3",
   "version": "3.10.6"
  }
 },
 "nbformat": 4,
 "nbformat_minor": 5
}
